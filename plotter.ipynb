{
 "cells": [
  {
   "cell_type": "markdown",
   "metadata": {},
   "source": [
    "# Plotting Tools"
   ]
  },
  {
   "cell_type": "code",
   "execution_count": 86,
   "metadata": {},
   "outputs": [],
   "source": [
    "import os\n",
    "import csv\n",
    "\n",
    "import numpy as np\n",
    "from scipy.io import loadmat, savemat\n",
    "import matplotlib.pyplot as plt\n",
    "import seaborn as sns \n",
    "# sns.set() #sns.set_style('dark'\n",
    "sns.set(context='paper', style='darkgrid', font_scale=1.8)\n",
    "import scipy.stats as stats\n"
   ]
  },
  {
   "cell_type": "markdown",
   "metadata": {},
   "source": [
    "### Basic plotting example"
   ]
  },
  {
   "cell_type": "code",
   "execution_count": null,
   "metadata": {},
   "outputs": [],
   "source": [
    "env = 'cartpole'\n",
    "min_num_trials = 10\n",
    "log_dir = './outputs/mass_runs/{}'.format(env)     # Directory specified in script, not including date+time\n",
    "\n",
    "COLORS = ['#2ca02c',  '#9467bd', '#e377c2', '#17becf', '#d62728', '#1f77b4']\n",
    "\n",
    "TASK_HORIZONS = {\n",
    "    'cartpole': 200,\n",
    "    'halfcheetah': 1000,\n",
    "    'pusher': 150,\n",
    "    'reacher': 150,\n",
    "    'ant': 1000\n",
    "}\n",
    "\n",
    "LINEWIDTH=2.5\n",
    "MARKERSIZE=14\n",
    "\n",
    "TASK_HORIZON = TASK_HORIZONS[env]\n",
    "\n",
    "plt.figure(figsize=(10, 6))\n",
    "\n",
    "\n",
    "\n",
    "\n",
    "num_exp = float('inf')\n",
    "for i, exp in enumerate(sorted(os.listdir(log_dir))):\n",
    "    returns = []\n",
    "    for subdir in os.listdir(os.path.join(log_dir, exp)):\n",
    "        print(subdir)\n",
    "        data = loadmat(os.path.join(log_dir, exp, subdir, \"logs.mat\"))\n",
    "        if data[\"returns\"].shape[1] >= min_num_trials:\n",
    "            print(exp, subdir, data['returns'][0][min_num_trials-1])\n",
    "            returns.append(data[\"returns\"][0][:min_num_trials])\n",
    "\n",
    "    returns = np.array(returns)\n",
    "    returns = np.maximum.accumulate(returns, axis=-1)\n",
    "    num_exp = returns.shape[0]# min(num_exp, returns.shape[0])\n",
    "    if num_exp == 0:\n",
    "        continue\n",
    "        \n",
    "    print(exp, num_exp)\n",
    "    mean = np.mean(returns, axis=0)\n",
    "    err = stats.sem(returns, axis=0)\n",
    "    zorder = 5\n",
    "    if exp.endswith('-calibrate'):\n",
    "        zorder=10\n",
    "    if exp == 'PE-TS1':\n",
    "#         continue\n",
    "        plt.plot(TASK_HORIZON*np.arange(1, min_num_trials + 1)[::10], mean[::10], label=exp, color=COLORS[3], marker='o', markersize=MARKERSIZE, linewidth=LINEWIDTH)\n",
    "    else:\n",
    "        plt.plot(TASK_HORIZON*np.arange(1, min_num_trials + 1), mean, label=exp, color=COLORS[i], linewidth=LINEWIDTH, zorder=zorder)\n",
    "        plt.fill_between(TASK_HORIZON*np.arange(1, min_num_trials + 1), mean - err, mean + err, alpha=0.25, color=COLORS[i])\n",
    "\n",
    "    upp = np.max(returns, axis=0)\n",
    "    low = np.min(returns, axis=0)        \n",
    "    plt.fill_between(TASK_HORIZON*np.arange(1, min_num_trials + 1), low, upp, alpha=0.10, color=COLORS[i])\n",
    "\n",
    "\n",
    "plt.legend(loc='best')\n",
    "\n",
    "plt.title(\"{}\".format(env[0].upper() + env[1:]), fontsize=25)\n",
    "plt.xlabel(\"Number of Timesteps\")\n",
    "plt.ylabel(\"Reward\")\n",
    "\n",
    "plt.tight_layout()\n",
    "\n",
    "\n",
    "plt.show()\n",
    "# plt.savefig('final_outputs/performance_{}_wpets.png'.format(env), bbox_inches='tight')"
   ]
  },
  {
   "cell_type": "code",
   "execution_count": null,
   "metadata": {},
   "outputs": [],
   "source": []
  },
  {
   "cell_type": "code",
   "execution_count": null,
   "metadata": {},
   "outputs": [],
   "source": []
  }
 ],
 "metadata": {
  "kernelspec": {
   "display_name": "Python 3",
   "language": "python",
   "name": "python3"
  },
  "language_info": {
   "codemirror_mode": {
    "name": "ipython",
    "version": 3
   },
   "file_extension": ".py",
   "mimetype": "text/x-python",
   "name": "python",
   "nbconvert_exporter": "python",
   "pygments_lexer": "ipython3",
   "version": "3.6.5"
  }
 },
 "nbformat": 4,
 "nbformat_minor": 2
}
